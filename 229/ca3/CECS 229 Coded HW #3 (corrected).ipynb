{
 "cells": [
  {
   "cell_type": "markdown",
   "metadata": {},
   "source": [
    "# CECS 229 Coded HW #3\n",
    "\n",
    "#### Due Date: \n",
    "\n",
    "Sunday, 3/6 @ 11:59 PM\n",
    "\n",
    "#### Submission Instructions:\n",
    "\n",
    "To receive credit for this assignment you must submit the following by the due date:\n",
    "\n",
    "1. **To the BB Dropbox Folder:** this completed .ipynb file\n",
    "\n",
    "2. **To CodePost:** this file converted to a Python script named `ca3.py`\n",
    "\n",
    "#### Objectives:\n",
    "\n",
    "1. Find the inverse of a given integer under a given modulo m.\n",
    "2. Encrypt and decrypt text using an affine transformation.\n",
    "3. Encrypt and decrypt text using the RSA cryptosystem.\n",
    "\n",
    "\n",
    "\n",
    "\n",
    "### Programming Tasks\n",
    "\n",
    "You may use the utility functions at the end of this notebook to aid you in the implementation of the following tasks:"
   ]
  },
  {
   "cell_type": "markdown",
   "metadata": {},
   "source": [
    "------------------------------------------\n",
    "##### Utility functions (NO EDITS NECESSARY)"
   ]
  },
  {
   "cell_type": "code",
   "execution_count": 39,
   "metadata": {},
   "outputs": [],
   "source": [
    "def bezout_coeffs(a, b):\n",
    "    s = 0\n",
    "    s0 = 1\n",
    "    t = 1\n",
    "    t0 = 0\n",
    "    b = b\n",
    "    a = a\n",
    "    dict = {'a':a,'b':b}\n",
    "    if b < 0:\n",
    "        while b != 0:\n",
    "            quotient = a//b \n",
    "            a, b = b, a - quotient*b\n",
    "            s0, s = s, s0 - quotient*s\n",
    "            t0, t = t, t0 - quotient*t\n",
    "        return {dict.get('a'):(s0*-1),dict.get('b'):(t0*-1)}\n",
    "\n",
    "    else:\n",
    "        while b != 0:\n",
    "            quotient = a//b \n",
    "            a, b = b, a - quotient*b\n",
    "            s0, s = s, s0 - quotient*s\n",
    "            t0, t = t, t0 - quotient*t\n",
    "        return {dict.get('a'):s0,dict.get('b'):t0}\n",
    "\n",
    "def gcd(a,b):\n",
    "    dict = bezout_coeffs(a, b)\n",
    "    return abs((a * dict.get(a) + b * dict.get(b)))"
   ]
  },
  {
   "cell_type": "code",
   "execution_count": 40,
   "metadata": {},
   "outputs": [],
   "source": [
    "def digits2letters(digits):\n",
    "    letters = \"\"\n",
    "    start = 0  #initializing starting index of first digit\n",
    "    while start <= len(digits) - 2:\n",
    "        digit = digits[start : start + 2]  # accessing the double digit\n",
    "        letters += chr( int(digit) +65)   # concatenating to the string of letters\n",
    "        start += 2                         # updating the starting index for next digit\n",
    "    return letters"
   ]
  },
  {
   "cell_type": "code",
   "execution_count": 41,
   "metadata": {},
   "outputs": [],
   "source": [
    "def letters2digits(letters):\n",
    "    digits = \"\"\n",
    "    for c in letters:\n",
    "        if c.isalpha():\n",
    "            letter = c.upper()  #converting to uppercase  \n",
    "            d = ord(letter)-65\n",
    "            if d < 10:\n",
    "                digits += \"0\" + str(d)     # concatenating to the string of digits\n",
    "            else:\n",
    "                digits += str(d)\n",
    "    return digits"
   ]
  },
  {
   "cell_type": "code",
   "execution_count": 42,
   "metadata": {},
   "outputs": [],
   "source": [
    "def blocksize(n):\n",
    "    \"\"\"returns the size of a block in an RSA encrypted string\"\"\"\n",
    "    twofive = \"25\"\n",
    "    while int(twofive) < n:\n",
    "        twofive += \"25\"\n",
    "    return len(twofive) - 2"
   ]
  },
  {
   "cell_type": "markdown",
   "metadata": {},
   "source": [
    "-------------------------------------------\n",
    "\n",
    "#### Problem 1: \n",
    "Create a function `modinv(a,m)` that returns the smallest, positive inverse of `a` modulo `m`.  If the gcd of `a` and `m` is not 1, then you must raise a `ValueError` with message `\"The given values are not relatively prime\"`.  You may NOT use any built-in functions as part of your implementation, but you may use any functions you implemented in previous coding assignments.  Please make sure to copy and paste them into this file, so that they are uploaded to CodePost when you submit your `ca3.py` file."
   ]
  },
  {
   "cell_type": "code",
   "execution_count": 67,
   "metadata": {},
   "outputs": [],
   "source": [
    "def modinv(a,m):\n",
    "    if gcd(a,m) != 1:\n",
    "        raise ValueError(\"The given values are not relatively prime\")\n",
    "    for x in range(1,m):\n",
    "        if (((a%m)*(x%m))%m == 1):\n",
    "            return x"
   ]
  },
  {
   "cell_type": "markdown",
   "metadata": {},
   "source": [
    "------------------------------------\n",
    "\n",
    "#### Problem 2: \n",
    "Create a function `affineEncrypt(text, a,b)` that returns the cipher text encrypted using key  (`a`, `b`).  You must verify that the gcd(a, 26) = 1 before making the encryption.  If this is not the case, the function must raise a `ValueError` with message `\"The given key is invalid. The gcd(a,26) must be 1.\"`.  You may NOT use any built-in functions as part of your implementation, but you may use any functions you implemented in previous coding assignments.  Please make sure to copy and paste them into this file, so that they are uploaded to CodePost when you submit your `ca3.py` file."
   ]
  },
  {
   "cell_type": "code",
   "execution_count": 66,
   "metadata": {},
   "outputs": [],
   "source": [
    "def affineEncrypt(text, a, b):\n",
    "    \"\"\"encrypts the plaintext 'text', using an affine transformation key (a, b)\n",
    "    INPUT:  text - plaintext as a string of letters\n",
    "            a - integer satisfying gcd(a, 26) = 1.  Raises error if such is not the case\n",
    "            b - integer \n",
    "            \n",
    "    OUTPUT: The encrypted message as a string of characters\n",
    "    \"\"\"\n",
    "    if gcd(a,26) != 1:\n",
    "      raise ValueError('The given key is invalid. The gcd(a,26) must be 1')\n",
    "    text = text.replace(' ','')\n",
    "    num = []\n",
    "\n",
    "    for i in text:\n",
    "        num.append(int(letters2digits(i)))\n",
    "    for i in range(len(num)):\n",
    "        num[i] = ((a*num[i])+b)%26\n",
    "        if num[i] < 10:\n",
    "            num[i] = \"0\" + str(num[i])\n",
    "        else:\n",
    "            num[i] = str(num[i])\n",
    "    text = ''.join(num)\n",
    "    return (digits2letters(text))"
   ]
  },
  {
   "cell_type": "markdown",
   "metadata": {},
   "source": [
    "#### Problem 3: \n",
    "Create a function `affineDecrypt(ciphertext, a,b)` that returns the cipher text encrypted using key  (`a`, `b`). You must verify that the gcd(a, 26) = 1.  If this is not the case, the function must raise `ValueError` with message `\"The given key is invalid. The gcd(a,26) must be 1.\"`.  You may NOT use any built-in functions as part of your implementation, but you may use any functions you implemented in previous coding assignments.  Please make sure to copy and paste them into this file, so that they are uploaded to CodePost when you submit your `ca3.py` file."
   ]
  },
  {
   "cell_type": "code",
   "execution_count": 72,
   "metadata": {},
   "outputs": [
    {
     "name": "stdout",
     "output_type": "stream",
     "text": [
      "MOVESOUTHNOW\n"
     ]
    }
   ],
   "source": [
    "def affineDecrypt(ciphertext, a, b):\n",
    "    \"\"\"decrypts the string 'ciphertext', which was encrypted using an affine transformation key (a, b)\n",
    "    INPUT:  ciphertext - a string of encrypted letters\n",
    "            a - integer satisfying gcd(a, 26) = 1.  \n",
    "            b - integer \n",
    "            \n",
    "    OUTPUT: The decrypted message as a string of characters\n",
    "    \"\"\"\n",
    "    if gcd(a,26) != 1:\n",
    "        raise ValueError('The given key is invalid. The gcd(a,26) must be 1')\n",
    "    text = ciphertext\n",
    "    num=[]\n",
    "    a = modinv(a,26)\n",
    "    for i in text:\n",
    "        num.append(int(letters2digits(i)))\n",
    "    for i in range(len(num)):\n",
    "        num[i] = (a*(num[i]-b))%26\n",
    "        if num[i] < 10:\n",
    "            num[i] = \"0\" + str(num[i])\n",
    "        else:\n",
    "            num[i] = str(num[i])\n",
    "    text = ''.join(num)\n",
    "    return (digits2letters(text))\n"
   ]
  },
  {
   "cell_type": "markdown",
   "metadata": {},
   "source": [
    "-----------------------------------\n",
    "\n",
    "#### Problem 4:\n",
    "\n",
    "Implement the function `encryptRSA(m, n, e)` which encrypts a string `m` using RSA key `(n = p * q, e)`.  You may NOT use any built-in functions as part of your implementation, but you may use any functions you implemented for previous coding assignments.  Please make sure to copy and paste them into this file, so that they are uploaded to CodePost when you submit your `ca3.py` file."
   ]
  },
  {
   "cell_type": "code",
   "execution_count": 54,
   "metadata": {},
   "outputs": [
    {
     "name": "stdout",
     "output_type": "stream",
     "text": [
      "2051 0905 3024\n"
     ]
    }
   ],
   "source": [
    "def encryptRSA(m, n, e):\n",
    "    \"\"\"encrypts the plaintext m, using RSA and the key (n = p * q, e)\n",
    "    INPUT:  m - plaintext as a string of letters\n",
    "            n - a positive integer\n",
    "            e - integer satisfying gcd((p-1)*(q-1), e) = 1\n",
    "            \n",
    "    OUTPUT: The encrypted message as a string of digits\n",
    "    \"\"\"\n",
    "    text = m\n",
    "    if n > 300:\n",
    "        n = n\n",
    "    l = blocksize(n)\n",
    "    g = l//2\n",
    "    num = []\n",
    "    for i in text:\n",
    "        num.append(letters2digits(i))\n",
    "    if len(num) % 2 != 0:\n",
    "        num.append('23')\n",
    "    for i in range(g,len(num)):\n",
    "        num[i-2 : i] = [''.join(num[i-2 : i])]\n",
    "    num = list(filter(None,num))\n",
    "    for i in range(len(num)):\n",
    "        num[i] = (int(num[i]) ** e) % n\n",
    "    for i in range(len(num)):\n",
    "        num[i] = str(num[i])\n",
    "    for i in range(len(num)):\n",
    "        if len((num[i])) < l:\n",
    "            for j in range(l - len((num[i]))):\n",
    "                num[i] = '0'+num[i]\n",
    "    text = ' '.join(num)\n",
    "    return text\n",
    "\n"
   ]
  },
  {
   "cell_type": "code",
   "execution_count": 47,
   "metadata": {},
   "outputs": [
    {
     "name": "stdout",
     "output_type": "stream",
     "text": [
      "Encrypted Message: 2081 2182\n",
      "Expected: 2081 2182\n",
      "Encrypted Message: 0981 0461\n",
      "Expected: 0981 0461\n",
      "Encrypted Message: 2081 2182 1346\n",
      "Expected: 2081 2182 1346\n",
      "Encrypted Message: 2545 2757 1211\n",
      "Expected: 2545 2757 1211\n"
     ]
    }
   ],
   "source": [
    "\"\"\"--------------------- ENCRYPTION TESTER CELL ---------------------------\"\"\"\n",
    "encrypted1 = encryptRSA(\"STOP\", 2537, 13)\n",
    "encrypted2 = encryptRSA(\"HELP\", 2537, 13)\n",
    "encrypted3 = encryptRSA(\"STOPS\", 2537, 13)\n",
    "print(\"Encrypted Message:\", encrypted1)\n",
    "print(\"Expected: 2081 2182\")\n",
    "print(\"Encrypted Message:\", encrypted2)\n",
    "print(\"Expected: 0981 0461\")\n",
    "print(\"Encrypted Message:\", encrypted3)\n",
    "print(\"Expected: 2081 2182 1346\")\n",
    "\n",
    "\n",
    "\"\"\"--------------------- TEST 2 ---------------------------\"\"\"\n",
    "encrypted = encryptRSA(\"UPLOAD\", 3233, 17)\n",
    "print(\"Encrypted Message:\", encrypted)\n",
    "print(\"Expected: 2545 2757 1211\")"
   ]
  },
  {
   "cell_type": "markdown",
   "metadata": {},
   "source": [
    "-------------------------------------------------------\n",
    "\n",
    "#### Problem 5:\n",
    "\n",
    "Complete the implementation of the function `decryptRSA(c, p, q, m)` which depends on `modinv(a,m)` and the given functions `digits2letters(digits)` and `blockSize(n)`.  When you are done, you can test your function against the given examples."
   ]
  },
  {
   "cell_type": "code",
   "execution_count": 48,
   "metadata": {},
   "outputs": [],
   "source": [
    "def decryptRSA(c, p, q, e):\n",
    "    \"\"\"decrypts the cipher c, which was encrypted using the key (p * q, e)\n",
    "    INPUT:  c - ciphertext as a string of digits\n",
    "            p, q - prime numbers used as part of the key n = p * q to encrypt the ciphertext\n",
    "            e - integer satisfying gcd((p-1)*(q-1), e) = 1\n",
    "            \n",
    "    OUTPUT: The decrypted message as a string of letters\n",
    "    \"\"\"\n",
    "    text = c\n",
    "    n = p * q\n",
    "    l = blocksize(n)\n",
    "    e = modinv(e,(p-1)*(q-1))\n",
    "    num = text.split()\n",
    "    for i in range(len(num)):\n",
    "        num[i] = int(num[i])\n",
    "    for i in range(len(num)):\n",
    "        num[i] = (num[i] ** e) % n\n",
    "    for i in range(len(num)):\n",
    "        num[i] = str(num[i])\n",
    "    for i in range(len(num)):\n",
    "        if len((num[i])) < l:\n",
    "            num[i] = '0'+num[i]\n",
    "    text = ''.join(num)\n",
    "    return digits2letters(text)\n"
   ]
  },
  {
   "cell_type": "code",
   "execution_count": 49,
   "metadata": {},
   "outputs": [
    {
     "name": "stdout",
     "output_type": "stream",
     "text": [
      "Decrypted Message: STOP\n",
      "Expected: STOP\n",
      "Decrypted Message: HELP\n",
      "Expected: HELP\n",
      "Decrypted Message: STOPSX\n",
      "Expected: STOPSX\n",
      "Decrypted Message: SILVER\n",
      "Expected: SILVER\n"
     ]
    }
   ],
   "source": [
    "\"\"\"--------------------- TESTER CELL ---------------------------\"\"\"\n",
    "decrypted1 = decryptRSA(\"2081 2182\", 43, 59, 13)\n",
    "decrypted2 = decryptRSA(\"0981 0461\", 43, 59, 13)\n",
    "decrypted3 = decryptRSA(\"2081 2182 1346\", 43, 59, 13)\n",
    "print(\"Decrypted Message:\", decrypted1)\n",
    "print(\"Expected: STOP\")\n",
    "print(\"Decrypted Message:\", decrypted2)\n",
    "print(\"Expected: HELP\")\n",
    "print(\"Decrypted Message:\", decrypted3)\n",
    "print(\"Expected: STOPSX\")\n",
    "\n",
    "\"\"\"--------------------- TEST 2---------------------------\"\"\"\n",
    "decrypted = decryptRSA(\"0667 1947 0671\", 43, 59, 13)\n",
    "print(\"Decrypted Message:\", decrypted)\n",
    "print(\"Expected: SILVER\")"
   ]
  }
 ],
 "metadata": {
  "kernelspec": {
   "display_name": "Python 3 (ipykernel)",
   "language": "python",
   "name": "python3"
  },
  "language_info": {
   "codemirror_mode": {
    "name": "ipython",
    "version": 3
   },
   "file_extension": ".py",
   "mimetype": "text/x-python",
   "name": "python",
   "nbconvert_exporter": "python",
   "pygments_lexer": "ipython3",
   "version": "3.9.10"
  }
 },
 "nbformat": 4,
 "nbformat_minor": 2
}
