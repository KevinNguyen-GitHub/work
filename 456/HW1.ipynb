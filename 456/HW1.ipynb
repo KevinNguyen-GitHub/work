{
  "cells": [
    {
      "cell_type": "markdown",
      "metadata": {
        "id": "TAaYDM4Ns87N"
      },
      "source": [
        "***This HW will implement several different ways of training linear regression model ***\n",
        "\n",
        "(total: 10 points)"
      ]
    },
    {
      "cell_type": "markdown",
      "metadata": {
        "id": "oZSvjfj9-BGU"
      },
      "source": [
        "\n",
        "\n",
        "1.   submit ipynb in the Dropbox folder via BeachBoard (Not email)\n",
        "2.   follow the instructions and fill the blanks in this Jupyter notebook\n",
        "\n",
        "\n"
      ]
    },
    {
      "cell_type": "markdown",
      "metadata": {
        "id": "TeMhky9xwsD1"
      },
      "source": [
        "**important:** In order to open this Python files with Google Colaboratory, you need to have a Gmail account and sign in to that account. This will automatically allow you to open the Python files with Google Colaboratory. Then once you open the file, it will be in read-only mode, so in order to code inside you just have to go to File, and then click \"Save a copy in Drive\". This will create a copy of this file on your drive, inside which you will be able to code in Python."
      ]
    },
    {
      "cell_type": "markdown",
      "metadata": {
        "id": "xU2mtNl6kl-G"
      },
      "source": [
        "# Setup (*Do Not change*)"
      ]
    },
    {
      "cell_type": "code",
      "execution_count": 2,
      "metadata": {
        "id": "boBLiqa6csz-"
      },
      "outputs": [
        {
          "ename": "ModuleNotFoundError",
          "evalue": "No module named 'numpy'",
          "output_type": "error",
          "traceback": [
            "\u001b[1;31m---------------------------------------------------------------------------\u001b[0m",
            "\u001b[1;31mModuleNotFoundError\u001b[0m                       Traceback (most recent call last)",
            "Input \u001b[1;32mIn [2]\u001b[0m, in \u001b[0;36m<module>\u001b[1;34m\u001b[0m\n\u001b[1;32m----> 1\u001b[0m \u001b[38;5;28;01mimport\u001b[39;00m \u001b[38;5;21;01mnumpy\u001b[39;00m \u001b[38;5;28;01mas\u001b[39;00m \u001b[38;5;21;01mnp\u001b[39;00m\n\u001b[0;32m      2\u001b[0m \u001b[38;5;28;01mimport\u001b[39;00m \u001b[38;5;21;01mmatplotlib\u001b[39;00m\u001b[38;5;21;01m.\u001b[39;00m\u001b[38;5;21;01mpyplot\u001b[39;00m \u001b[38;5;28;01mas\u001b[39;00m \u001b[38;5;21;01mplt\u001b[39;00m\n\u001b[0;32m      3\u001b[0m np\u001b[38;5;241m.\u001b[39mrandom\u001b[38;5;241m.\u001b[39mseed(\u001b[38;5;241m42\u001b[39m)\n",
            "\u001b[1;31mModuleNotFoundError\u001b[0m: No module named 'numpy'"
          ]
        }
      ],
      "source": [
        "import numpy as np\n",
        "import matplotlib.pyplot as plt\n",
        "np.random.seed(42) #to make this notebook's output stable across runs"
      ]
    },
    {
      "cell_type": "markdown",
      "metadata": {
        "id": "dvHHuyoIlVTG"
      },
      "source": [
        "#prepare the dataset (*Do Not change*)"
      ]
    },
    {
      "cell_type": "code",
      "execution_count": null,
      "metadata": {
        "id": "Hjc3Kn2_cxXW"
      },
      "outputs": [],
      "source": [
        "X = 2 * np.random.rand(100,1)\n",
        "#print(x)\n",
        "y = 4 + 3 * X + np.random.randn(100, 1)"
      ]
    },
    {
      "cell_type": "code",
      "execution_count": null,
      "metadata": {
        "colab": {
          "base_uri": "https://localhost:8080/",
          "height": 287
        },
        "id": "BzQR1oW1liJo",
        "outputId": "aaea20e0-018f-401d-ccd2-a32b5f0e0735"
      },
      "outputs": [
        {
          "data": {
            "image/png": "[encoded data removed]",
            "text/plain": [
              "<Figure size 432x288 with 1 Axes>"
            ]
          },
          "metadata": {
            "needs_background": "light"
          },
          "output_type": "display_data"
        }
      ],
      "source": [
        "#visualize the dataset\n",
        "plt.plot(X, y, \"b.\")\n",
        "plt.xlabel(\"$x_1$\", fontsize=18)\n",
        "plt.ylabel(\"$y$\", rotation=0, fontsize=18)\n",
        "plt.axis([0, 2, 0, 15])\n",
        "plt.show()"
      ]
    },
    {
      "cell_type": "markdown",
      "metadata": {
        "id": "V10VsJazlWsr"
      },
      "source": [
        "#**1st way**: Linear regression using sklearn library (*Do Not change*)"
      ]
    },
    {
      "cell_type": "code",
      "execution_count": null,
      "metadata": {
        "colab": {
          "base_uri": "https://localhost:8080/"
        },
        "id": "YB0HqNYPk-Uo",
        "outputId": "68c463ad-ca9b-4593-9a3c-a992b5da3960"
      },
      "outputs": [
        {
          "data": {
            "text/plain": [
              "(array([4.21509616]), array([[2.77011339]]))"
            ]
          },
          "execution_count": 17,
          "metadata": {},
          "output_type": "execute_result"
        }
      ],
      "source": [
        "from sklearn.linear_model import LinearRegression\n",
        "lin_reg = LinearRegression()\n",
        "lin_reg.fit(X, y)\n",
        "lin_reg.intercept_, lin_reg.coef_"
      ]
    },
    {
      "cell_type": "code",
      "execution_count": null,
      "metadata": {
        "colab": {
          "base_uri": "https://localhost:8080/"
        },
        "id": "H1vzi-6AmM5M",
        "outputId": "e0d6ee05-938f-4205-ae31-0f73728d9281"
      },
      "outputs": [
        {
          "data": {
            "text/plain": [
              "array([[4.21509616],\n",
              "       [9.75532293]])"
            ]
          },
          "execution_count": 18,
          "metadata": {},
          "output_type": "execute_result"
        }
      ],
      "source": [
        "#make prediction on X_new\n",
        "X_new = np.array([[0], [2]])\n",
        "lin_reg.predict(X_new)"
      ]
    },
    {
      "cell_type": "markdown",
      "metadata": {
        "id": "ijFMckOmmolR"
      },
      "source": [
        "#**2nd way**: Linear regression using normal equation (*Your turn!!!*)"
      ]
    },
    {
      "cell_type": "markdown",
      "metadata": {
        "id": "EBxBto2XogNL"
      },
      "source": [
        "# 1. add x0 = 1 to each instance (1 point)"
      ]
    },
    {
      "cell_type": "code",
      "execution_count": 1,
      "metadata": {
        "id": "oI2UZYgfool7"
      },
      "outputs": [
        {
          "ename": "NameError",
          "evalue": "name 'np' is not defined",
          "output_type": "error",
          "traceback": [
            "\u001b[1;31m---------------------------------------------------------------------------\u001b[0m",
            "\u001b[1;31mNameError\u001b[0m                                 Traceback (most recent call last)",
            "Input \u001b[1;32mIn [1]\u001b[0m, in \u001b[0;36m<module>\u001b[1;34m\u001b[0m\n\u001b[1;32m----> 1\u001b[0m X_new_b \u001b[38;5;241m=\u001b[39m \u001b[43mnp\u001b[49m\u001b[38;5;241m.\u001b[39mc_[np\u001b[38;5;241m.\u001b[39mones((\u001b[38;5;241m100\u001b[39m,\u001b[38;5;241m1\u001b[39m)), X]\n",
            "\u001b[1;31mNameError\u001b[0m: name 'np' is not defined"
          ]
        }
      ],
      "source": [
        "X_updated = np.c_[np.ones((100, 1)), X]"
      ]
    },
    {
      "cell_type": "markdown",
      "metadata": {
        "id": "zhSfPIisoqGG"
      },
      "source": [
        "# 2. write the normal equation using np.linalg (2 points)"
      ]
    },
    {
      "cell_type": "code",
      "execution_count": null,
      "metadata": {
        "id": "UHUOZVeoc-TJ"
      },
      "outputs": [],
      "source": [
        "weights = np.linalg.inv(X_updated.T.dot(X_b)).dot(X_updated.T).dot(y)"
      ]
    },
    {
      "cell_type": "markdown",
      "metadata": {
        "id": "IW5BZRtno4km"
      },
      "source": [
        "# 3. print weights"
      ]
    },
    {
      "cell_type": "code",
      "execution_count": null,
      "metadata": {
        "id": "k7mWjN-neyws"
      },
      "outputs": [],
      "source": [
        "print(weights)"
      ]
    },
    {
      "cell_type": "markdown",
      "metadata": {
        "id": "i4jpLTanpEUD"
      },
      "source": [
        "# 4. make prediction on X_new (from the 1st part), but before predicting, you need to add x0=1 to each instance (1 point)"
      ]
    },
    {
      "cell_type": "code",
      "execution_count": null,
      "metadata": {
        "id": "xG6WksCRfSYd"
      },
      "outputs": [],
      "source": [
        "X_new_updated = np.c_[np.ones((2, 1)), X_new]\n",
        "predictions = X_new_updated.dot(weights)"
      ]
    },
    {
      "cell_type": "markdown",
      "metadata": {
        "id": "ew6_JW7bpgiv"
      },
      "source": [
        "# 5. plot this model's prediction line (2 points)"
      ]
    },
    {
      "cell_type": "code",
      "execution_count": null,
      "metadata": {
        "id": "8pFuHrPQnq11"
      },
      "outputs": [],
      "source": [
        "plt.plot(X_new, predictions, \"r-\", label=\"Normal Equation\")\n",
        "plt.plot(X, y, \"b.\")\n",
        "plt.xlabel(\"$x_1$\", fontsize=18)\n",
        "plt.ylabel(\"$y$\", rotation=0, fontsize=18)\n",
        "plt.legend(loc=\"upper left\", fontsize=14)\n",
        "plt.axis([0, 2, 0, 15])\n",
        "plt.show()"
      ]
    },
    {
      "cell_type": "markdown",
      "metadata": {
        "id": "1KgIP4Umh1oQ"
      },
      "source": [
        "#**3rd way**: Linear Regression using batch gradient descent (*Your turn!!!*)"
      ]
    },
    {
      "cell_type": "code",
      "execution_count": null,
      "metadata": {
        "id": "NSGLEbech7Z7"
      },
      "outputs": [],
      "source": [
        "#Do not change this code cell\n",
        "eta = 0.2  # learning rate\n",
        "n_iterations = 1000\n",
        "weights_gd = np.random.randn(2,1)  # random initialization"
      ]
    },
    {
      "cell_type": "markdown",
      "metadata": {
        "id": "Y7GUSC_Ap6LA"
      },
      "source": [
        "# 1. write gradient descent without using sklearn (3 points)"
      ]
    },
    {
      "cell_type": "code",
      "execution_count": null,
      "metadata": {
        "id": "HwM1lh3sA3S3"
      },
      "outputs": [],
      "source": [
        "for iteration in range(n_iterations):\n",
        "    gradients = 2/100 * X_updated.T.dot(X_updated.dot(weights_gd) - y)\n",
        "    weights_gd = weights_gd - eta * gradients"
      ]
    },
    {
      "cell_type": "markdown",
      "metadata": {
        "id": "Si4aXbZ4p_O8"
      },
      "source": [
        "# 2. print weights"
      ]
    },
    {
      "cell_type": "code",
      "execution_count": null,
      "metadata": {
        "id": "RyjEEwSiA65o"
      },
      "outputs": [],
      "source": [
        "print(weights_gd)"
      ]
    },
    {
      "cell_type": "markdown",
      "metadata": {
        "id": "nH4vR7vVqB_-"
      },
      "source": [
        "# 3. make prediction on X_new(from the 1st part), you also need to add x0=1 to each instance before making prediction (1 point)"
      ]
    },
    {
      "cell_type": "code",
      "execution_count": null,
      "metadata": {
        "id": "nOZgzfRzA8nB"
      },
      "outputs": [],
      "source": [
        "predictions_gd= X_new_updated.dot(weights_gd)"
      ]
    }
  ],
  "metadata": {
    "colab": {
      "collapsed_sections": [],
      "provenance": []
    },
    "kernelspec": {
      "display_name": "Python 3",
      "name": "python3"
    },
    "language_info": {
      "codemirror_mode": {
        "name": "ipython",
        "version": 3
      },
      "file_extension": ".py",
      "mimetype": "text/x-python",
      "name": "python",
      "nbconvert_exporter": "python",
      "pygments_lexer": "ipython3",
      "version": "3.9.7"
    }
  },
  "nbformat": 4,
  "nbformat_minor": 0
}
